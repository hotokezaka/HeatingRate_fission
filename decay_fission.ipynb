{
 "cells": [
  {
   "cell_type": "code",
   "execution_count": 16,
   "metadata": {},
   "outputs": [
    {
     "name": "stdout",
     "output_type": "stream",
     "text": [
      "The autoreload extension is already loaded. To reload it, use:\n",
      "  %reload_ext autoreload\n"
     ]
    }
   ],
   "source": [
    "import numpy as np\n",
    "import matplotlib.pyplot as plt\n",
    "from matplotlib.ticker import NullFormatter\n",
    "from astropy.constants import R_jup, R_sun, R_earth, au, M_sun\n",
    "import pandas as pd\n",
    "import seaborn as sns\n",
    "sns.set_style('ticks')\n",
    "sns.set_context('paper')\n",
    "from numpy import pi\n",
    "from scipy import optimize\n",
    "\n",
    "import bateman as bt\n",
    "import thermalization as th\n",
    "import heat_fission as ht\n",
    "#import thermalization as th\n",
    "#import heat as ht\n",
    "\n",
    "kb =1.38064852e-16\n",
    "h = 6.6266885e-27\n",
    "c = 2.99792458e10\n",
    "eV = 1.60218e-12\n",
    "MeV = 1.0e6*eV\n",
    "me = 9.10938356e-28\n",
    "e = 4.803204e-10\n",
    "mu = 1.66054e-24\n",
    "day = 86400.\n",
    "Msun = 1.9885e33\n",
    "\n",
    "%matplotlib inline\n",
    "%load_ext autoreload\n",
    "%autoreload 2"
   ]
  },
  {
   "cell_type": "code",
   "execution_count": 8,
   "metadata": {},
   "outputs": [],
   "source": [
    "#fkappa = pd.read_csv('effective_kappa_A141_238.dat',delim_whitespace=True,header=None)\n",
    "fkappa = pd.read_csv('input_files/effective_kappa_A85_238.dat',delim_whitespace=True,header=None)\n",
    "#fkappa = pd.read_csv('effective_kappa_141_238.dat',delim_whitespace=True,header=None)\n",
    "\n",
    "kappa_effs = 0.02*np.ones((240,100))\n",
    "for i in range(0,len(fkappa)):\n",
    "    A = fkappa[0][i]\n",
    "    Z = fkappa[1][i]\n",
    "    kappa = fkappa[3][i]\n",
    "    kappa_effs[A][Z] = kappa\n",
    "#    print A, Z, kappa_effs[A][Z]\n",
    "\n",
    "ffraction = pd.read_csv('input_files/solar_r_abundance_pattern.dat',delim_whitespace=True,header=None)"
   ]
  },
  {
   "cell_type": "code",
   "execution_count": 4,
   "metadata": {
    "collapsed": true
   },
   "outputs": [],
   "source": [
    "ffraction = pd.read_csv('each_ejecta_A238_lod.dat',delim_whitespace=True,header=None)"
   ]
  },
  {
   "cell_type": "code",
   "execution_count": 9,
   "metadata": {
    "collapsed": true
   },
   "outputs": [],
   "source": [
    "##########Start input parameters\n",
    "Amin = 88\n",
    "Amax = 238\n",
    "\n",
    "##########ejecta parameters for thermalization\n",
    "Mej = 0.06*Msun\n",
    "vej = 0.1*c\n",
    "n = 4.5\n",
    "alpha_max = 4.0#v_max = alpha_max * vej\n",
    "alpha_min = 1.#v_min = alpha_min * vej\n"
   ]
  },
  {
   "cell_type": "code",
   "execution_count": 56,
   "metadata": {
    "scrolled": true
   },
   "outputs": [
    {
     "name": "stdout",
     "output_type": "stream",
     "text": [
      "total time step =  44\n"
     ]
    }
   ],
   "source": [
    "beta = ht.calc_heating_rate(Mej,vej, Amin,Amax,ffraction,ffision_A,ffision_X,kappa_effs,alpha_max,alpha_min,n)"
   ]
  },
  {
   "cell_type": "code",
   "execution_count": 10,
   "metadata": {
    "collapsed": true
   },
   "outputs": [],
   "source": [
    "ffission_A = []\n",
    "ffission_X =[]\n",
    "ffission_A.append(254)\n",
    "ffission_X.append(2.0e-6)"
   ]
  },
  {
   "cell_type": "code",
   "execution_count": 17,
   "metadata": {},
   "outputs": [
    {
     "name": "stdout",
     "output_type": "stream",
     "text": [
      "total time step =  49\n"
     ]
    }
   ],
   "source": [
    "fission = ht.calc_heating_rate_sf(Mej,vej, Amin,Amax,ffraction,ffission_A,ffission_X,kappa_effs,alpha_max,alpha_min,n)"
   ]
  },
  {
   "cell_type": "code",
   "execution_count": 57,
   "metadata": {
    "collapsed": true
   },
   "outputs": [],
   "source": [
    "data = {'t':tmp['t'],'total':tmp['total'],'gamma':tmp['gamma'], 'electron':tmp['electron'], 'gamma_th':tmp['gamma_th'],'electron_th':tmp['electron_th']}\n",
    "df = pd.DataFrame(data=data)\n",
    "df.to_csv('heat141_238_M001_v04_v1_n45.dat',sep=\" \",index=False,header=None,columns=['t', 'total', 'gamma', 'electron','gamma_th','electron_th'])"
   ]
  },
  {
   "cell_type": "code",
   "execution_count": 20,
   "metadata": {},
   "outputs": [
    {
     "name": "stdout",
     "output_type": "stream",
     "text": [
      "1.11948174109\n"
     ]
    }
   ],
   "source": [
    "tmp = 0.\n",
    "for i in range(0,len(ffraction)):\n",
    "    tmp += ffraction[2][i]\n",
    "    \n",
    "print tmp"
   ]
  },
  {
   "cell_type": "code",
   "execution_count": null,
   "metadata": {
    "collapsed": true
   },
   "outputs": [],
   "source": []
  }
 ],
 "metadata": {
  "kernelspec": {
   "display_name": "Python [default]",
   "language": "python",
   "name": "python2"
  },
  "language_info": {
   "codemirror_mode": {
    "name": "ipython",
    "version": 2
   },
   "file_extension": ".py",
   "mimetype": "text/x-python",
   "name": "python",
   "nbconvert_exporter": "python",
   "pygments_lexer": "ipython2",
   "version": "2.7.13"
  }
 },
 "nbformat": 4,
 "nbformat_minor": 2
}
